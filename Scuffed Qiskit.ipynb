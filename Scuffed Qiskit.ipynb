{
 "cells": [
  {
   "cell_type": "code",
   "execution_count": 18,
   "id": "0c633fec",
   "metadata": {},
   "outputs": [],
   "source": [
    "from qiskit import *\n",
    "from qiskit.tools.visualization import plot_histogram"
   ]
  },
  {
   "cell_type": "code",
   "execution_count": 21,
   "id": "37e00980",
   "metadata": {},
   "outputs": [
    {
     "name": "stdout",
     "output_type": "stream",
     "text": [
      "hello\n"
     ]
    },
    {
     "data": {
      "image/png": "[encoded data removed]",
      "text/plain": [
       "<Figure size 504x360 with 1 Axes>"
      ]
     },
     "execution_count": 21,
     "metadata": {},
     "output_type": "execute_result"
    }
   ],
   "source": [
    "def generalized_cyclic_rotate(qc,kBit,startRange,endRange,times):\n",
    "    # kbit is bit you want to work with\n",
    "    # TODO make this log as they want\n",
    "    # times is the number of times you need to left rotate(2*kbit's location)\n",
    "    for i in range(times):\n",
    "        qc.cswap(kBit,startRange,endRange) # swap first two\n",
    "        for i in range(startRange,endRange-1):\n",
    "            qc.cswap(kBit,i,i+1)\n",
    "            \n",
    "def testSwapper():\n",
    "    global qc\n",
    "    qc = QuantumCircuit(4,0)\n",
    "    qc.x([0,1,2])\n",
    "    generalized_cyclic_rotate(qc,0,1,3,1)\n",
    "    print(\"hello\")\n",
    "    return qc.draw()\n",
    "testSwapper()\n",
    "qc.measure_all()\n",
    "\n",
    "simulator = Aer.get_backend('aer_simulator')\n",
    "circ = transpile(qc,simulator)\n",
    "# Run and get counts\n",
    "result = simulator.run(circ).result()\n",
    "counts = result.get_counts(circ)\n",
    "plot_histogram(counts)\n"
   ]
  },
  {
   "cell_type": "code",
   "execution_count": 6,
   "id": "937c2de0",
   "metadata": {},
   "outputs": [
    {
     "data": {
      "text/html": [
       "<pre style=\"word-wrap: normal;white-space: pre;background: #fff0;line-height: 1.1;font-family: &quot;Courier New&quot;,Courier,monospace\">           ░ ┌───┐ ░     ░       ░ \n",
       "q_0: ──────░─┤ H ├─░──■──░───────░─\n",
       "     ┌───┐ ░ └───┘ ░  │  ░       ░ \n",
       "q_1: ┤ X ├─░───────░──┼──░───■───░─\n",
       "     └───┘ ░       ░  │  ░ ┌─┴─┐ ░ \n",
       "q_2: ──────░───────░──X──░─┤ X ├─░─\n",
       "     ┌───┐ ░       ░  │  ░ └───┘ ░ \n",
       "q_3: ┤ X ├─░───────░──X──░───────░─\n",
       "     └───┘ ░       ░     ░       ░ \n",
       "  c: ══════════════════════════════\n",
       "                                   </pre>"
      ],
      "text/plain": [
       "           ░ ┌───┐ ░     ░       ░ \n",
       "q_0: ──────░─┤ H ├─░──■──░───────░─\n",
       "     ┌───┐ ░ └───┘ ░  │  ░       ░ \n",
       "q_1: ┤ X ├─░───────░──┼──░───■───░─\n",
       "     └───┘ ░       ░  │  ░ ┌─┴─┐ ░ \n",
       "q_2: ──────░───────░──X──░─┤ X ├─░─\n",
       "     ┌───┐ ░       ░  │  ░ └───┘ ░ \n",
       "q_3: ┤ X ├─░───────░──X──░───────░─\n",
       "     └───┘ ░       ░     ░       ░ \n",
       "  c: ══════════════════════════════\n",
       "                                   "
      ]
     },
     "execution_count": 6,
     "metadata": {},
     "output_type": "execute_result"
    }
   ],
   "source": [
    "qc = QuantumCircuit(4, 1)\n",
    "\n",
    "# initialize strings with not gates\n",
    "# leave room for\n",
    "# T = \"01\" and P =\"1\" => |0 1 01>\n",
    "qc.x([1,3])\n",
    "qc.barrier()\n",
    "\n",
    "# uniform superposition of first register\n",
    "qc.h(0)\n",
    "qc.barrier()\n",
    "\n",
    "\n",
    "# controlled shift (???)\n",
    "qc.cswap(0,2,3)\n",
    "qc.barrier()\n",
    "\n",
    "\n",
    "# XOR between all P bits and the first m bits of T\n",
    "qc.cnot(1, 2)\n",
    "qc.barrier()\n",
    "\n",
    "# Do grovers here\n",
    "\n",
    "\n",
    "qc.draw()\n",
    "\n"
   ]
  },
  {
   "cell_type": "code",
   "execution_count": null,
   "id": "f88ef453",
   "metadata": {},
   "outputs": [],
   "source": []
  },
  {
   "cell_type": "code",
   "execution_count": null,
   "id": "79130f7f",
   "metadata": {},
   "outputs": [],
   "source": []
  }
 ],
 "metadata": {
  "kernelspec": {
   "display_name": "Python 3 (ipykernel)",
   "language": "/gnu/store/bbakd2h7s4g62fymjmqpxgvlanp1ydny-python-3.9.9/bin/python3",
   "name": "python3"
  },
  "language_info": {
   "codemirror_mode": {
    "name": "ipython",
    "version": 3
   },
   "file_extension": ".py",
   "mimetype": "text/x-python",
   "name": "python",
   "nbconvert_exporter": "python",
   "pygments_lexer": "ipython3",
   "version": "3.9.9"
  }
 },
 "nbformat": 4,
 "nbformat_minor": 5
}
